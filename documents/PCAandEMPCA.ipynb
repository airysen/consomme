{
 "metadata": {
  "name": "PCA and EMPCA"
 },
 "nbformat": 3,
 "nbformat_minor": 0,
 "worksheets": [
  {
   "cells": [
    {
     "cell_type": "heading",
     "level": 1,
     "metadata": {},
     "source": [
      "PCA Techniques:"
     ]
    },
    {
     "cell_type": "heading",
     "level": 2,
     "metadata": {},
     "source": [
      "Notes on different ways of doing PCA and some pitfalls associated with them"
     ]
    },
    {
     "cell_type": "heading",
     "level": 3,
     "metadata": {},
     "source": [
      "1. Standard PCA: Covariance Eigenvalues and Eigenvectors"
     ]
    },
    {
     "cell_type": "markdown",
     "metadata": {},
     "source": [
      "Let us look at two standard ways (which rely on simple methods of \n",
      "eigenvalue decomposition) to do PCA, using a simple toy example. \n",
      "First, get the data."
     ]
    },
    {
     "cell_type": "code",
     "collapsed": false,
     "input": [
      "# code for toy is in ../consomme\n",
      "import sys\n",
      "sys.path.append('../')\n",
      "\n",
      "from consomme.data_faker import *\n",
      "\n",
      "N = 100 \n",
      "noise = 0.01 # a percentage of the mean spectrum\n",
      "\n",
      "wavelength, clean_spec, noisy_spec, uncert = default_fake(N,noise)\n",
      "\n",
      "# chop size, subtract mean\n",
      "# size is now [100,400]\n",
      "wavelength = wavelength[400:800]\n",
      "clean_spec = clean_spec[:,400:800]\n",
      "noisy_spec = noisy_spec[:,400:800]\n",
      "clean_spec -= np.mean(clean_spec,axis=0)\n",
      "noisy_spec -= np.mean(noisy_spec,axis=0)"
     ],
     "language": "python",
     "metadata": {},
     "outputs": [],
     "prompt_number": 30
    },
    {
     "cell_type": "markdown",
     "metadata": {},
     "source": [
      "The `clean_spec` object above is an array of spectra, consisting of 100 examples, each with 400 values.  The variation between the spectrum is determined by some set of low dimensional factors, which we will determine with PCA.  One method is to do the following:"
     ]
    },
    {
     "cell_type": "code",
     "collapsed": false,
     "input": [
      "# compute the covariance matrix\n",
      "covariance = 1. / (N-1) * np.dot(clean_spec.T,clean_spec)\n",
      "print 'Covariance matrix has shape = ',covariance.shape\n",
      "\n",
      "eigval, eigvec = np.linalg.eigh(covariance)\n",
      "print 'Eigenvalue matrix has shape = ',eigval.shape\n",
      "print 'Eigenvector matrix has shape = ',eigvec.shape"
     ],
     "language": "python",
     "metadata": {},
     "outputs": [
      {
       "output_type": "stream",
       "stream": "stdout",
       "text": [
        "Covariance matrix has shape =  (400, 400)\n",
        "Eigenvalue matrix has shape = "
       ]
      },
      {
       "output_type": "stream",
       "stream": "stdout",
       "text": [
        " (400,)\n",
        "Eigenvector matrix has shape =  (400, 400)\n"
       ]
      }
     ],
     "prompt_number": 31
    },
    {
     "cell_type": "markdown",
     "metadata": {},
     "source": [
      "Numpy's `eigh` gives the eigenvalues in ascending order, and eigenvectors as columns in the `eigvec` matrix.  Examining the last five eigenvalues:"
     ]
    },
    {
     "cell_type": "code",
     "collapsed": false,
     "input": [
      "print eigval[-5:]"
     ],
     "language": "python",
     "metadata": {},
     "outputs": [
      {
       "output_type": "stream",
       "stream": "stdout",
       "text": [
        "[  1.88057109e-15   1.92200834e-15   2.27013181e-15   3.32108458e-15\n",
        "   7.46796658e+00]\n"
       ]
      }
     ],
     "prompt_number": 32
    },
    {
     "cell_type": "markdown",
     "metadata": {},
     "source": [
      "Clearly, all of the variance is in the last component, so the toy data used here has one factor of interest.  This eigenvector looks like:"
     ]
    },
    {
     "cell_type": "code",
     "collapsed": false,
     "input": [
      "from IPython.display import Image\n",
      "\n",
      "fig = pl.figure()\n",
      "pl.plot(wavelength,eigvec[:,-1])\n",
      "pl.xlabel('Wavelength ($\\AA$)')\n",
      "pl.ylabel('$F_\\lambda$ (Arb.)')\n",
      "fig.savefig('../plots/foo.png',dpi=100)\n",
      "Image(filename='../plots/foo.png')"
     ],
     "language": "python",
     "metadata": {},
     "outputs": [
      {
       "output_type": "pyout",
       "png": "[encoded data removed]",
       "prompt_number": 37,
       "text": [
        "<IPython.core.display.Image at 0x109350ed0>"
       ]
      }
     ],
     "prompt_number": 37
    },
    {
     "cell_type": "heading",
     "level": 3,
     "metadata": {},
     "source": [
      "2. Standard PCA: Singular Value Decomposition"
     ]
    },
    {
     "cell_type": "code",
     "collapsed": false,
     "input": [],
     "language": "python",
     "metadata": {},
     "outputs": []
    }
   ],
   "metadata": {}
  }
 ]
}